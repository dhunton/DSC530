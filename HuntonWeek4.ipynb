{
 "cells": [
  {
   "cell_type": "markdown",
   "metadata": {},
   "source": [
    "# PMFs and CDFs\n",
    "\n",
    "<text color=purple>The first step is to run the author's code to import all of the data and store it in preg and resp data frames.</text>"
   ]
  },
  {
   "cell_type": "code",
   "execution_count": 1,
   "metadata": {
    "scrolled": true
   },
   "outputs": [],
   "source": [
    "from __future__ import print_function, division\n",
    "import sys\n",
    "import numpy as np\n",
    "import thinkstats2\n",
    "from collections import defaultdict\n",
    "\n",
    "def CleanFemPreg(df):\n",
    "    df.agepreg /= 100.00\n",
    "    df.loc[df.birthwgt_lb > 20, 'birthwgt_lb'] = np.nan\n",
    "    na_vals = [97, 98, 99]\n",
    "    df.birthwgt_lb.replace(na_vals, np.nan, inplace=True)\n",
    "    df.birthwgt_oz.replace(na_vals, np.nan, inplace=True)\n",
    "    df.hpagelb.replace(na_vals, np.nan, inplace=True)\n",
    "    df.babysex.replace([7,9], np.nan, inplace=True)\n",
    "    df.nbrnaliv.replace([9], np.nan, inplace=True)\n",
    "    df['totalwgt_lb']=df.birthwgt_lb + df.birthwgt_oz/16.0\n",
    "    df.cmintvw = np.nan\n",
    "\n",
    "def ReadFemPreg(dct_file='2002FemPreg.dct',\n",
    "                dat_file='2002FemPreg.dat.gz'):\n",
    "    dct=thinkstats2.ReadStataDct(dct_file)\n",
    "    df=dct.ReadFixedWidth(dat_file, compression='gzip')\n",
    "    CleanFemPreg(df)\n",
    "    return df\n",
    "\n",
    "def ReadFemResp(dct_file='2002FemResp.dct', \n",
    "                dat_file='2002FemResp.dat.gz',\n",
    "                nrows=None):\n",
    "    dct = thinkstats2.ReadStataDct(dct_file)\n",
    "    df = dct.ReadFixedWidth(dat_file, compression='gzip',\n",
    "                            nrows=nrows)\n",
    "    return df\n",
    "\n",
    "def MakePregMap(df):\n",
    "    d = defaultdict(list)\n",
    "    for index, caseid in df.caseid.iteritems():\n",
    "        d[caseid].append(index)\n",
    "    return d\n",
    "\n",
    "def ValidatePregnum(resp, preg):\n",
    "    preg_map = MakePregMap(preg)\n",
    "    for index, pregnum in resp.pregnum.iteritems():\n",
    "        caseid = resp.caseid[index]\n",
    "        indices = preg_map[caseid]\n",
    "        if len(indices) != pregnum:\n",
    "            print(caseid, len(indices), pregnum)\n",
    "            return False\n",
    "    return True\n",
    "\n",
    "resp=ReadFemResp()\n",
    "assert(len(resp) == 7643)\n",
    "assert(resp.pregnum.value_counts()[1] == 1267)\n",
    "preg = ReadFemPreg()\n",
    "assert len(preg) == 13593\n",
    "assert preg.caseid[13592] == 12571\n",
    "assert preg.pregordr.value_counts()[1] == 5033\n",
    "assert preg.nbrnaliv.value_counts()[1] == 8981\n",
    "assert preg.babysex.value_counts()[1] == 4641\n",
    "assert preg.birthwgt_lb.value_counts()[7] == 3049\n",
    "assert preg.birthwgt_oz.value_counts()[0] == 1037\n",
    "assert preg.prglngth.value_counts()[39] == 4744\n",
    "assert preg.outcome.value_counts()[1] == 9148\n",
    "assert preg.birthord.value_counts()[1] == 4413\n",
    "assert preg.agepreg.value_counts()[22.75] == 100\n",
    "assert preg.totalwgt_lb.value_counts()[7.5] == 302\n",
    "weights = preg.finalwgt.value_counts()\n",
    "key = max(weights.keys())\n",
    "assert preg.finalwgt.value_counts()[key] == 6\n",
    "assert(ValidatePregnum(resp, preg))"
   ]
  },
  {
   "cell_type": "markdown",
   "metadata": {},
   "source": [
    "<text color=purple>Then I need to import the packages that I will be using. I will also limit the preg data frame to the columns needed and clear out pregnancies that did not result in a live birth. Lastly, I will create a function to label all of my graphs.</text>"
   ]
  },
  {
   "cell_type": "code",
   "execution_count": 2,
   "metadata": {},
   "outputs": [],
   "source": [
    "import matplotlib.pyplot as plt\n",
    "from empiricaldist import Pmf, Cdf\n",
    "from scipy import stats\n",
    "import random\n",
    "\n",
    "preg2 = preg[['caseid', 'prglngth', 'outcome', 'pregordr', 'birthord',\n",
    "              'totalwgt_lb', 'agepreg', 'finalwgt']]\n",
    "preg= preg2[preg2.outcome == 1]\n",
    "\n",
    "def label_plot(title,xlabel,ylabel):\n",
    "    plt.title(title)\n",
    "    plt.xlabel(xlabel)\n",
    "    plt.ylabel(ylabel)"
   ]
  },
  {
   "cell_type": "markdown",
   "metadata": {},
   "source": [
    "### Exercise 3-1\n",
    "\n",
    "Something like the class size paradox appears if you survey children and ask how many children are in their family. Families with many children are more likely to appear in your sample, and families with no children have no chance to be in the sample.\n",
    "\n",
    "Use the NSFG respondent variable NUMKDHH to construct the actual distribution for the number of children under 18 in the household.\n",
    "\n",
    "Now compute the biased distribution we would see if we surveyed the children and asked them how many children under 18 (including themselves) are in their household.\n",
    "\n",
    "Plot the actual and biased distributions, and compute their means.\n",
    "\n",
    "<text color=purple>To calculate a distribution based on the childrens' experiences, I need to make sure that each child's experience is listed separately. I will duplicate the number based on the family (i.e. \"2\" will become \"2, 2\" and \"5\" will become \"5, 5, 5, 5, 5\"). I will also remove all of the 0's as there are no children to experience that situation. Then plot and label both sets of data.</text>"
   ]
  },
  {
   "cell_type": "code",
   "execution_count": 3,
   "metadata": {},
   "outputs": [
    {
     "name": "stdout",
     "output_type": "stream",
     "text": [
      "The true mean for number of children in a household is:  1.024205155043831\n"
     ]
    },
    {
     "data": {
      "image/png": "[encoded data removed]",
      "text/plain": [
       "<Figure size 432x288 with 1 Axes>"
      ]
     },
     "metadata": {
      "needs_background": "light"
     },
     "output_type": "display_data"
    }
   ],
   "source": [
    "real_values = resp['numkdhh'].tolist()\n",
    "real_pmf = Pmf.from_seq(real_values)\n",
    "real_pmf.bar()\n",
    "label_plot('Distribution of Children in Household', \n",
    "           'Number of Children', 'Probability')\n",
    "print('The true mean for number of children in a household is: ', \n",
    "      real_pmf.mean())"
   ]
  },
  {
   "cell_type": "code",
   "execution_count": 4,
   "metadata": {},
   "outputs": [
    {
     "name": "stdout",
     "output_type": "stream",
     "text": [
      "The biased mean for number of children in a household is:  2.403679100664282\n"
     ]
    },
    {
     "data": {
      "image/png": "[encoded data removed]",
      "text/plain": [
       "<Figure size 432x288 with 1 Axes>"
      ]
     },
     "metadata": {
      "needs_background": "light"
     },
     "output_type": "display_data"
    }
   ],
   "source": [
    "bias_values = resp['numkdhh'].tolist()\n",
    "for i in range(0,len(bias_values)):\n",
    "    num_copies = 1\n",
    "    while num_copies < bias_values[i]:\n",
    "        bias_values.append(bias_values[i])\n",
    "        num_copies += 1\n",
    "bias_values2 = [i for i in bias_values if i != 0]\n",
    "bias_pmf = Pmf.from_seq(bias_values2)\n",
    "bias_pmf.bar()\n",
    "label_plot('Distribution of Children in Household', \n",
    "           'Number of Children', 'Probability')\n",
    "print('The biased mean for number of children in a household is: ', \n",
    "      bias_pmf.mean())"
   ]
  },
  {
   "cell_type": "markdown",
   "metadata": {},
   "source": [
    "### Exercise 3-2\n",
    "\n",
    "In “Summarizing Distributions” on page 22 we computed the mean of a sample by adding up the elements and dividing by n. If you are given a PMF, you can still compute the mean, but the process is slightly different. Similarly, you can compute variance like this.\n",
    "\n",
    "Write functions called PmfMean and PmfVar that take a Pmf object and compute the mean and variance. To test these methods, check that they are consistent with the methods Mean and Var provided by Pmf."
   ]
  },
  {
   "cell_type": "code",
   "execution_count": 5,
   "metadata": {},
   "outputs": [
    {
     "name": "stdout",
     "output_type": "stream",
     "text": [
      "My mean from the pmf is:  0.4712215690253462\n",
      "The real mean is :  0.4712215690253461\n",
      "My variance from the pmf is:  0.06481968416721613\n",
      "The real variance is:  0.06481968416721615\n"
     ]
    }
   ],
   "source": [
    "def PmfMean(test_pmf):\n",
    "    my_testp = test_pmf.ps\n",
    "    my_testx = test_pmf.qs\n",
    "    test_total = float(0)\n",
    "    for i in range (0, len(my_testx)):\n",
    "        test_total += my_testp[i] * my_testx[i]\n",
    "    test_mean = test_total\n",
    "    return test_mean\n",
    "\n",
    "def PmfVar(test_pmf):\n",
    "    # calculate mean of values\n",
    "    my_testp = test_pmf.ps\n",
    "    my_testx = test_pmf.qs\n",
    "    test_mean = my_testx.mean()\n",
    "\n",
    "    # calculate variance of pmf\n",
    "    test_var = 0\n",
    "    for i in range (0, len(my_testx)):\n",
    "        my_temp = my_testx[i] - test_mean\n",
    "        test_var += (my_temp ** 2) * my_testp[i]\n",
    "    return test_var\n",
    "\n",
    "my_list=[]\n",
    "for x in range (0,50):\n",
    "    my_list.append(random.random())\n",
    "my_pmf = Pmf.from_seq(my_list)\n",
    "my_mean = PmfMean(my_pmf)\n",
    "my_var = PmfVar(my_pmf)\n",
    "real_mean = my_pmf.mean()\n",
    "real_var = my_pmf.var()\n",
    "\n",
    "print ('My mean from the pmf is: ', my_mean)\n",
    "print ('The real mean is : ', real_mean)\n",
    "print ('My variance from the pmf is: ', my_var)\n",
    "print ('The real variance is: ', real_var)"
   ]
  },
  {
   "cell_type": "markdown",
   "metadata": {},
   "source": [
    "### Exercise 4-1\n",
    "\n",
    "How much did you weigh at birth? If you don’t know, call your mother or someone else who knows. Using the NSFG data (all live births), compute the distribution of birth weights and use it to find your percentile rank. If you were a first baby, find your percentile rank in the distribution for first babies. Otherwise use the distribution for others. If you are in the 90th percentile or higher, call your mother back and apologize.\n",
    "\n",
    "<text color=purple>I am adopted, so I have no way of knowing that information. I asked a friend if she knew the birthweights of her children, and she gave them to me. I randomly chose one which turned out to be 9 pounds 8 ounces (or 9.5 pounds) for her fourth child.</text>"
   ]
  },
  {
   "cell_type": "code",
   "execution_count": 6,
   "metadata": {
    "scrolled": true
   },
   "outputs": [
    {
     "name": "stdout",
     "output_type": "stream",
     "text": [
      "The percentile rank of 9.5 pounds is :  94.62724092697857\n"
     ]
    },
    {
     "name": "stderr",
     "output_type": "stream",
     "text": [
      "C:\\Users\\Agent\\Anaconda3\\lib\\site-packages\\scipy\\stats\\stats.py:1942: RuntimeWarning: invalid value encountered in less\n",
      "  left = np.count_nonzero(a < score)\n",
      "C:\\Users\\Agent\\Anaconda3\\lib\\site-packages\\scipy\\stats\\stats.py:1943: RuntimeWarning: invalid value encountered in less_equal\n",
      "  right = np.count_nonzero(a <= score)\n"
     ]
    }
   ],
   "source": [
    "all_birth_weights = preg['totalwgt_lb'].tolist()\n",
    "p_rank = stats.percentileofscore(all_birth_weights,9.5)\n",
    "print ('The percentile rank of 9.5 pounds is : ', p_rank)"
   ]
  },
  {
   "cell_type": "markdown",
   "metadata": {},
   "source": [
    "### Exercise 4-2\n",
    "\n",
    "The numbers generated by random.random are supposed to be uniform between 0 and 1; that is, every value in the range should have the same probability. \n",
    "\n",
    "Generate 1000 numbers from random.random and plot their PMF and CDF. Is the distribution uniform?"
   ]
  },
  {
   "cell_type": "code",
   "execution_count": 7,
   "metadata": {},
   "outputs": [
    {
     "data": {
      "image/png": "[encoded data removed]",
      "text/plain": [
       "<Figure size 432x288 with 1 Axes>"
      ]
     },
     "metadata": {
      "needs_background": "light"
     },
     "output_type": "display_data"
    }
   ],
   "source": [
    "my_nums = []\n",
    "for x in range (0,1000):\n",
    "    my_nums.append(random.random())\n",
    "\n",
    "my_pmf = Pmf.from_seq(my_nums)\n",
    "my_pmf.normalize()\n",
    "my_pmf.bar()\n",
    "label_plot('PMF of 1,000 Random Numbers','Value','Probability')"
   ]
  },
  {
   "cell_type": "code",
   "execution_count": 8,
   "metadata": {},
   "outputs": [
    {
     "data": {
      "image/png": "[encoded data removed]",
      "text/plain": [
       "<Figure size 432x288 with 1 Axes>"
      ]
     },
     "metadata": {
      "needs_background": "light"
     },
     "output_type": "display_data"
    }
   ],
   "source": [
    "my_cdf = Cdf.from_seq(my_nums)\n",
    "my_cdf.step()\n",
    "label_plot('CDF of 1,000 Random Numbers','Value','CDF')"
   ]
  }
 ],
 "metadata": {
  "kernelspec": {
   "display_name": "Python 3",
   "language": "python",
   "name": "python3"
  },
  "language_info": {
   "codemirror_mode": {
    "name": "ipython",
    "version": 3
   },
   "file_extension": ".py",
   "mimetype": "text/x-python",
   "name": "python",
   "nbconvert_exporter": "python",
   "pygments_lexer": "ipython3",
   "version": "3.7.4"
  }
 },
 "nbformat": 4,
 "nbformat_minor": 4
}
